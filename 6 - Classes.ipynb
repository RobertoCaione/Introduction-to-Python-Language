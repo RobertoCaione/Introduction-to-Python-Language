{
 "cells": [
  {
   "cell_type": "markdown",
   "metadata": {},
   "source": [
    "## Module 6 "
   ]
  },
  {
   "cell_type": "markdown",
   "metadata": {},
   "source": [
    "In this module dedicated to classes, we'll put all the concepts together to learn to create a general ```class``` in Python. Don't worry about this, because the simplicity and power have seen until now remain! "
   ]
  },
  {
   "cell_type": "markdown",
   "metadata": {},
   "source": [
    "### Classes and Istances "
   ]
  },
  {
   "cell_type": "markdown",
   "metadata": {},
   "source": [
    "This time we start directly with an example:"
   ]
  },
  {
   "cell_type": "code",
   "execution_count": 1,
   "metadata": {},
   "outputs": [],
   "source": [
    "class food:\n",
    "    pass"
   ]
  },
  {
   "cell_type": "markdown",
   "metadata": {},
   "source": [
    "Well, we have defined our first class, too easy, do you? The only news is ```class``` instruction. Let's try to create an ```instance``` of our class:"
   ]
  },
  {
   "cell_type": "code",
   "execution_count": 2,
   "metadata": {},
   "outputs": [],
   "source": [
    "pasta = food()"
   ]
  },
  {
   "cell_type": "markdown",
   "metadata": {},
   "source": [
    "Well done! it's enough to write the name of the class followed by the round brackets and Python give us an object of that class, called ```instance of class```. Indeed:"
   ]
  },
  {
   "cell_type": "code",
   "execution_count": 3,
   "metadata": {},
   "outputs": [
    {
     "data": {
      "text/plain": [
       "<class __main__.food at 0x7f5d0c16e9a8>"
      ]
     },
     "execution_count": 3,
     "metadata": {},
     "output_type": "execute_result"
    }
   ],
   "source": [
    "food   # class"
   ]
  },
  {
   "cell_type": "code",
   "execution_count": 4,
   "metadata": {},
   "outputs": [
    {
     "data": {
      "text/plain": [
       "<__main__.food instance at 0x7f5d0c101a28>"
      ]
     },
     "execution_count": 4,
     "metadata": {},
     "output_type": "execute_result"
    }
   ],
   "source": [
    "pasta  # object"
   ]
  },
  {
   "cell_type": "markdown",
   "metadata": {},
   "source": [
    "```main``` means that ```food class``` is defined interactively. If it had defined and imported from an external module, instead of __main__ we saw the same module.  "
   ]
  },
  {
   "cell_type": "markdown",
   "metadata": {},
   "source": [
    "## Methods "
   ]
  },
  {
   "cell_type": "markdown",
   "metadata": {},
   "source": [
    "Start to apply what we learned in the last 5 modules. A better class could be:"
   ]
  },
  {
   "cell_type": "code",
   "execution_count": 5,
   "metadata": {},
   "outputs": [],
   "source": [
    "class food:\n",
    "    '''\n",
    "    an example of class to manage food\n",
    "    '''\n",
    "    def __init__(self, protein=0, carbohydrate=0, fat=0):\n",
    "        self.protein = protein\n",
    "        self.carbohydrate = carbohydrate\n",
    "        self.fat = fat"
   ]
  },
  {
   "cell_type": "markdown",
   "metadata": {},
   "source": [
    "The first string is documentation, that is automatically assigned to __doc__ attribute of class and displayed by help. __init__ method could seem cryptic, its name is ```constructor method```. When we create an instance of a class, usually you need to specify some special characteristics about the object that we are building. To do this we can define an opportune method starting from the name established by the constructor method. The first parameter of the constructor is ```self```, which allows us to have access to the created object or, in the __init__ case, that is creating. When we call a method, we don't need to refer to self, because Python takes care of it. Let's see to work in our class!"
   ]
  },
  {
   "cell_type": "code",
   "execution_count": 6,
   "metadata": {},
   "outputs": [],
   "source": [
    "pasta = food(protein=12,carbohydrate=72,fat=1)"
   ]
  },
  {
   "cell_type": "markdown",
   "metadata": {},
   "source": [
    "So the object has three new attributes and we can try to visualize one of them: "
   ]
  },
  {
   "cell_type": "code",
   "execution_count": 7,
   "metadata": {},
   "outputs": [
    {
     "name": "stdout",
     "output_type": "stream",
     "text": [
      "72\n"
     ]
    }
   ],
   "source": [
    "print(pasta.carbohydrate)"
   ]
  },
  {
   "cell_type": "markdown",
   "metadata": {},
   "source": [
    "It could be interesting to add a function able to calculate calories in our class:"
   ]
  },
  {
   "cell_type": "code",
   "execution_count": 8,
   "metadata": {},
   "outputs": [],
   "source": [
    "def calorie(self):\n",
    "    return (self.protein*4 + self.carbohydrate*4 + self.fat*9)\n",
    "\n",
    "food.calorie = calorie"
   ]
  },
  {
   "cell_type": "code",
   "execution_count": 9,
   "metadata": {},
   "outputs": [
    {
     "name": "stdout",
     "output_type": "stream",
     "text": [
      "345\n"
     ]
    }
   ],
   "source": [
    "print pasta.calorie()"
   ]
  },
  {
   "cell_type": "markdown",
   "metadata": {},
   "source": [
    "A method is a function combined to the object, while an attribute is a data that characterizes it. A column of programming objects oriented is that: an object merges data and logic operating on itself. The name of this feature is encapsulation. From outside the object is seen as a unit, without the need to distinguish the internal features from its operational logic (in our example the function for calories). "
   ]
  },
  {
   "cell_type": "markdown",
   "metadata": {},
   "source": [
    "### Inheritance"
   ]
  },
  {
   "cell_type": "markdown",
   "metadata": {},
   "source": [
    "```Inheritance``` is another column of programming objects oriented: a class inherits the behavior of another class (base class) extending it with its functionalities. Let me show you:"
   ]
  },
  {
   "cell_type": "code",
   "execution_count": 10,
   "metadata": {},
   "outputs": [],
   "source": [
    "class vegetable(food):\n",
    "    def __init__(self, protein=0, carbohydrate=0):\n",
    "        self.fat = 0\n",
    "        self.protein = protein\n",
    "        self.carbohydrate = carbohydrate"
   ]
  },
  {
   "cell_type": "code",
   "execution_count": 11,
   "metadata": {},
   "outputs": [
    {
     "name": "stdout",
     "output_type": "stream",
     "text": [
      "16.0\n"
     ]
    }
   ],
   "source": [
    "eggplant = vegetable(protein=1.5, carbohydrate=2.5)\n",
    "print(eggplant.calorie())"
   ]
  },
  {
   "cell_type": "markdown",
   "metadata": {},
   "source": [
    "In the \"vegetable class\" there are no traces of the calorie method. It has been defined in \"food class\" and we can use it because \"vegetable\" is the son of a base class (or mother class). Let me modify the vegetable class:"
   ]
  },
  {
   "cell_type": "code",
   "execution_count": 12,
   "metadata": {},
   "outputs": [],
   "source": [
    "class vegetable(food):\n",
    "    def __init__(self, protein=0, carbohydrate=0):\n",
    "        food.__init__(self,\n",
    "                     protein=protein,\n",
    "                     carbohydrate=carbohydrate,\n",
    "                     fat=0)"
   ]
  },
  {
   "cell_type": "markdown",
   "metadata": {},
   "source": [
    "The syntax that we used is a little bit different. We just forced to \"0\" a parameter, fat, that in mother class could be passed explicitly. "
   ]
  },
  {
   "cell_type": "markdown",
   "metadata": {},
   "source": [
    "### Properties "
   ]
  },
  {
   "cell_type": "markdown",
   "metadata": {},
   "source": [
    "Thanks to Python we can use the function calorie as an attribute, without round brackets and with the ```properties``` function:"
   ]
  },
  {
   "cell_type": "code",
   "execution_count": 13,
   "metadata": {},
   "outputs": [
    {
     "data": {
      "text/plain": [
       "16.0"
      ]
     },
     "execution_count": 13,
     "metadata": {},
     "output_type": "execute_result"
    }
   ],
   "source": [
    "food.calorie = property(calorie)\n",
    "eggplant.calorie"
   ]
  },
  {
   "cell_type": "code",
   "execution_count": 14,
   "metadata": {},
   "outputs": [
    {
     "data": {
      "text/plain": [
       "345"
      ]
     },
     "execution_count": 14,
     "metadata": {},
     "output_type": "execute_result"
    }
   ],
   "source": [
    "pasta.calorie"
   ]
  },
  {
   "cell_type": "markdown",
   "metadata": {},
   "source": [
    "Now food class has a property, calorie, that leads the execution of the function that we pointed as the first parameter of ```property```. Properties can be used to define functions that define attributes as well as return them. Let me show you how we can use the functions in \"vegetable class\" with \"fat\" attribute:"
   ]
  },
  {
   "cell_type": "code",
   "execution_count": 15,
   "metadata": {},
   "outputs": [],
   "source": [
    "class vegetable(food):\n",
    "    def __init__(self, protein=0, carbohydrate=0):\n",
    "        self.fat = 0\n",
    "        self.protein = protein\n",
    "        self.carbohydrate = carbohydrate\n",
    "    def getFat(self):\n",
    "        return 0 \n",
    "    def setFat(self, fat):\n",
    "        if fat > 0:\n",
    "            raise Exception(\"Vegetables are not fat !!\")\n",
    "    fat = property(getFat, setFat)"
   ]
  },
  {
   "cell_type": "code",
   "execution_count": 16,
   "metadata": {},
   "outputs": [
    {
     "data": {
      "text/plain": [
       "32"
      ]
     },
     "execution_count": 16,
     "metadata": {},
     "output_type": "execute_result"
    }
   ],
   "source": [
    "carot = vegetable(1,7)\n",
    "carot.calorie"
   ]
  },
  {
   "cell_type": "code",
   "execution_count": 17,
   "metadata": {},
   "outputs": [
    {
     "data": {
      "text/plain": [
       "0"
      ]
     },
     "execution_count": 17,
     "metadata": {},
     "output_type": "execute_result"
    }
   ],
   "source": [
    "carot.fat"
   ]
  },
  {
   "cell_type": "code",
   "execution_count": null,
   "metadata": {},
   "outputs": [],
   "source": []
  }
 ],
 "metadata": {
  "kernelspec": {
   "display_name": "Python 2",
   "language": "python",
   "name": "python2"
  },
  "language_info": {
   "codemirror_mode": {
    "name": "ipython",
    "version": 2
   },
   "file_extension": ".py",
   "mimetype": "text/x-python",
   "name": "python",
   "nbconvert_exporter": "python",
   "pygments_lexer": "ipython2",
   "version": "2.7.15+"
  }
 },
 "nbformat": 4,
 "nbformat_minor": 2
}
