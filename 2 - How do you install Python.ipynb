{
 "cells": [
  {
   "cell_type": "markdown",
   "metadata": {},
   "source": [
    "## Module 2"
   ]
  },
  {
   "cell_type": "markdown",
   "metadata": {},
   "source": [
    "## How do you install Python?\n",
    "To install Python you need a version suitable at your platform that you can find at [this url](https://www.python.org/downloads/). \n",
    "\n",
    "\n",
    "## Documentation\n",
    "\n",
    "There are many resources online and books to learn how to program in python. The list below is just a starting point and does not want to be complete: \n",
    "\n",
    "* the online official documentation can be found [at this url](http://www.python.org/doc); it is only available in English and is very accurate. Fortunately also exists Italian documentation, available [at this url](http://www.python.it) ;  \n",
    "* several platforms for e-learning propose courses to learn Python; for example, Codeacademy offers [an excellent course](https://www.codecademy.com/learn/python), which can be completed in only 13 hours ;\n",
    "* Google also offers a [python class](https://developers.google.com/edu/python/?csw=1) online ;\n",
    "* a more extensive (and practical) guide to python is given by [Learn python the hard way](https://learnpythonthehardway.org/book/) or [Datacamp](https://www.datacamp.com)."
   ]
  },
  {
   "cell_type": "markdown",
   "metadata": {},
   "source": [
    "## Linux environment"
   ]
  },
  {
   "cell_type": "markdown",
   "metadata": {},
   "source": [
    "Python can be run in several ways:\n",
    "\n",
    "* from the interactive interpreter: launch ```python``` in a shell. Quit with Ctrl+D or type ```exit()``` when you finished.\n",
    "* create your script with an extension ```.py``` and run it in a shell by typing python ```scriptname.py```\n",
    "* use an Interactive Development Environment (IDE). This software includes an editor for coding and capabilities for executing the code. There are several options available (e.g. spyder, Rodeo, etc.)\n",
    "*  In this course we are using jupyter notebook so the recommendation you could become familiar with it [jupyter notebooks](http://jupyter-notebook-beginner-guide.readthedocs.io/en/latest/what_is_jupyter.html), which is increasingly popular among python users for sharing codes and ideas."
   ]
  },
  {
   "cell_type": "markdown",
   "metadata": {},
   "source": [
    "From the command line in your home directory:\n",
    "\n",
    "* INSTALL\n",
    "\n",
    "To install jupyter:\n",
    "\n",
    "```pip install jupyter --user```\n",
    "\n",
    "\n",
    "* ALIAS \n",
    "\n",
    "If you make an alias for jupyter, you don't need to type in the path every time you start it.So, create and open this file\n",
    "\n",
    "```pico ~/.bash_aliases```\n",
    "\n",
    "In the pico editor add the line\n",
    "\n",
    "```alias jupyter='~/.local/bin/jupyter'```\n",
    "\n",
    "and then save the file ```Ctrl +s```. \n",
    "\n",
    "Finally, exit ```Ctr-x```.\n",
    "\n",
    "* SOURCE\n",
    "\n",
    "Now you need to re-source your .bashrc file. \n",
    "\n",
    "```source .bashrc```"
   ]
  },
  {
   "cell_type": "code",
   "execution_count": null,
   "metadata": {},
   "outputs": [],
   "source": []
  }
 ],
 "metadata": {
  "kernelspec": {
   "display_name": "Python 2",
   "language": "python",
   "name": "python2"
  },
  "language_info": {
   "codemirror_mode": {
    "name": "ipython",
    "version": 2
   },
   "file_extension": ".py",
   "mimetype": "text/x-python",
   "name": "python",
   "nbconvert_exporter": "python",
   "pygments_lexer": "ipython2",
   "version": "2.7.15+"
  }
 },
 "nbformat": 4,
 "nbformat_minor": 2
}
