{
 "cells": [
  {
   "cell_type": "markdown",
   "metadata": {},
   "source": [
    "## Module 4"
   ]
  },
  {
   "cell_type": "markdown",
   "metadata": {},
   "source": [
    "## Sintax"
   ]
  },
  {
   "cell_type": "markdown",
   "metadata": {},
   "source": [
    "Now we know every Python data type, we have to find out what commands we can use to operate on them. First of all, we will examine the indentation concept; after that the instructions to check the flux: ```if```, ```for```, ```while```, ```break```, ```continue``` and ```pass```."
   ]
  },
  {
   "cell_type": "markdown",
   "metadata": {},
   "source": [
    "### Indentation "
   ]
  },
  {
   "cell_type": "markdown",
   "metadata": {},
   "source": [
    "Indentation is the aspect that characterizes Python respect to other programming languages. Order and legibility of source code are priceless. It is very simple where an instructions block starts and ends. In Python, we can forget to be messy because the disorder is forbidden syntactically. Another big advantage of indentation is that the closing rule of a block is universal: to close a block is not necessary to specify using some command or brackets. It is enough this simple rule: ```indentation```. To be honest there is a downside: tabulation characters. A tabulation character can not be interpreted in the same way by two different editors. The solution to this evident problem is a little bit drastic: don't use the tabulation! The major part of existent editors allows us to force the conversion of tabulation characters into the corresponding number of spaces."
   ]
  },
  {
   "cell_type": "markdown",
   "metadata": {},
   "source": [
    "### If "
   ]
  },
  {
   "cell_type": "markdown",
   "metadata": {},
   "source": [
    "```If``` instruction is the most common among the programming language. Let me show an example: "
   ]
  },
  {
   "cell_type": "code",
   "execution_count": 1,
   "metadata": {},
   "outputs": [
    {
     "name": "stdout",
     "output_type": "stream",
     "text": [
      "(47, 'moderate')\n"
     ]
    }
   ],
   "source": [
    "import random\n",
    "n = random.randrange(1, 100)  # a function from random package that generates a random number between 0 and 99\n",
    "if n < 20:\n",
    "    print(n, \"low\")\n",
    "elif n > 80:\n",
    "    print(n, \"high\")\n",
    "else:\n",
    "    print(n, \"moderate\")"
   ]
  },
  {
   "cell_type": "markdown",
   "metadata": {},
   "source": [
    "```If``` syntax is very simple. There aren't too many words to spend, we can use ```elif``` every time we need and last ```else``` is superfluous. In Python, there isn't the ```which instruction``` as in C or ```Select``` as in Visual Basic. Python philosophy is clear: often exist just one way to write a sequence of instructions: the correct way!"
   ]
  },
  {
   "cell_type": "markdown",
   "metadata": {},
   "source": [
    "### For "
   ]
  },
  {
   "cell_type": "markdown",
   "metadata": {},
   "source": [
    "```For``` instruction allows us to define the iterations. To decide how many iterations perform and on which element perform the iteration we can use any object that can be considered a sequence. Lists, tuples, and strings are all data that we can use for the iterations with for."
   ]
  },
  {
   "cell_type": "code",
   "execution_count": 6,
   "metadata": {},
   "outputs": [
    {
     "name": "stdout",
     "output_type": "stream",
     "text": [
      "a\n",
      "b\n",
      "c\n"
     ]
    }
   ],
   "source": [
    "for x in 'abc':\n",
    "    print x"
   ]
  },
  {
   "cell_type": "markdown",
   "metadata": {},
   "source": [
    "How do we simply want to iterate a certain number of times and we do not have a suitable sequence? We can use the ```range``` construct: "
   ]
  },
  {
   "cell_type": "code",
   "execution_count": 7,
   "metadata": {},
   "outputs": [
    {
     "name": "stdout",
     "output_type": "stream",
     "text": [
      "0\n",
      "1\n",
      "2\n",
      "3\n",
      "4\n"
     ]
    }
   ],
   "source": [
    "for n in range(5):\n",
    "    print n"
   ]
  },
  {
   "cell_type": "markdown",
   "metadata": {},
   "source": [
    "With range we can specify the beginning, the end and the step of iteration:"
   ]
  },
  {
   "cell_type": "code",
   "execution_count": 10,
   "metadata": {},
   "outputs": [
    {
     "data": {
      "text/plain": [
       "[4, 6, 8]"
      ]
     },
     "execution_count": 10,
     "metadata": {},
     "output_type": "execute_result"
    }
   ],
   "source": [
    "list(range(4,10,2))"
   ]
  },
  {
   "cell_type": "markdown",
   "metadata": {},
   "source": [
    "Until now ```For``` is not very different from other programming languages, but again Python has extra gear. Let's define a dictionary and perform a loop on its elements:"
   ]
  },
  {
   "cell_type": "code",
   "execution_count": 11,
   "metadata": {},
   "outputs": [
    {
     "name": "stdout",
     "output_type": "stream",
     "text": [
      "('mario', '333-6688991')\n",
      "('massimo', '328-7896541')\n"
     ]
    }
   ],
   "source": [
    "phonebook = dict()\n",
    "phonebook['mario'] = '333-6688991'\n",
    "phonebook['massimo'] = '328-7896541'\n",
    "for key, value in phonebook.items():\n",
    "    print(key, value)"
   ]
  },
  {
   "cell_type": "markdown",
   "metadata": {},
   "source": [
    "This form is possible because, how we saw in the data type module, the method ```items``` of a dictionary returns an iterable object as a sequence of tuples, composed of the key and the respective value. ```For``` performs a cycle on each element and assigns to ```key``` and ```value``` variable the two values present in each tuple. we will often want to count the elements of a sequence as we examine it. In Python there is a function ready to perform this operation, its name is ```enumerate```."
   ]
  },
  {
   "cell_type": "code",
   "execution_count": 2,
   "metadata": {},
   "outputs": [
    {
     "name": "stdout",
     "output_type": "stream",
     "text": [
      "(0, 'boa')\n",
      "(1, 'cobra')\n",
      "(2, 'python')\n"
     ]
    }
   ],
   "source": [
    "snakes = ['boa', 'cobra', 'python']\n",
    "for cont, val in enumerate(snakes):\n",
    "    print(cont,val)"
   ]
  },
  {
   "cell_type": "markdown",
   "metadata": {},
   "source": [
    "For distinct lists instead:"
   ]
  },
  {
   "cell_type": "code",
   "execution_count": 14,
   "metadata": {},
   "outputs": [
    {
     "name": "stdout",
     "output_type": "stream",
     "text": [
      "('roberto', 'has', 'black', 'hair and is', '26', 'years old')\n",
      "('camilla', 'has', 'brown', 'hair and is', '18', 'years old')\n",
      "('filippo', 'has', 'brownish', 'hair and is', '14', 'years old')\n"
     ]
    }
   ],
   "source": [
    "name = ['roberto', 'camilla', 'filippo']\n",
    "hair = ['black', 'brown', 'brownish']\n",
    "age = ['26', '18', '14']\n",
    "for n, c, a in zip(name, hair, age):\n",
    "    print(n, 'has', c ,'hair and is', a, 'years old') "
   ]
  },
  {
   "cell_type": "markdown",
   "metadata": {},
   "source": [
    "### While "
   ]
  },
  {
   "cell_type": "markdown",
   "metadata": {},
   "source": [
    "```while``` is very similar to ```for```, there is just one difference: iteration is not based on a sequence, but it continues as long as it is verified the following condition."
   ]
  },
  {
   "cell_type": "code",
   "execution_count": 3,
   "metadata": {},
   "outputs": [
    {
     "name": "stdout",
     "output_type": "stream",
     "text": [
      "1\n",
      "2\n",
      "3\n",
      "4\n"
     ]
    }
   ],
   "source": [
    "x = 1 \n",
    "while x < 5 :\n",
    "    print x\n",
    "    x += 1"
   ]
  },
  {
   "cell_type": "markdown",
   "metadata": {},
   "source": [
    "### Break and Continue "
   ]
  },
  {
   "cell_type": "markdown",
   "metadata": {},
   "source": [
    "It could happen that, both with for and the while, we need to end abruptly the cycle or to go to the next iteration: for these two operations we can use respectively the ```break``` and ```continue``` instruction."
   ]
  },
  {
   "cell_type": "code",
   "execution_count": null,
   "metadata": {},
   "outputs": [],
   "source": [
    "for record in dowload_data():\n",
    "    if error(record):\n",
    "        print('unexpected Error')\n",
    "        break # quit from cycle\n",
    "    if empty(record):\n",
    "        continue # pass to next cycle\n",
    "    manage_record"
   ]
  },
  {
   "cell_type": "markdown",
   "metadata": {},
   "source": [
    "We have seen how ```else``` works, the same could be useful also with the cycles. "
   ]
  },
  {
   "cell_type": "code",
   "execution_count": 18,
   "metadata": {},
   "outputs": [
    {
     "name": "stdout",
     "output_type": "stream",
     "text": [
      "(3, '\\xc3\\xa8 primo')\n",
      "(5, '\\xc3\\xa8 primo')\n",
      "(7, '\\xc3\\xa8 primo')\n",
      "(3, 'divide', 9)\n",
      "(11, '\\xc3\\xa8 primo')\n",
      "(13, '\\xc3\\xa8 primo')\n",
      "(3, 'divide', 15)\n",
      "(17, '\\xc3\\xa8 primo')\n",
      "(19, '\\xc3\\xa8 primo')\n",
      "(3, 'divide', 21)\n",
      "(23, '\\xc3\\xa8 primo')\n",
      "(5, 'divide', 25)\n",
      "(3, 'divide', 27)\n",
      "(29, '\\xc3\\xa8 primo')\n",
      "(31, '\\xc3\\xa8 primo')\n",
      "(3, 'divide', 33)\n",
      "(5, 'divide', 35)\n",
      "(37, '\\xc3\\xa8 primo')\n",
      "(3, 'divide', 39)\n",
      "(41, '\\xc3\\xa8 primo')\n",
      "(43, '\\xc3\\xa8 primo')\n",
      "(3, 'divide', 45)\n",
      "(47, '\\xc3\\xa8 primo')\n",
      "(7, 'divide', 49)\n",
      "(3, 'divide', 51)\n",
      "(53, '\\xc3\\xa8 primo')\n",
      "(5, 'divide', 55)\n",
      "(3, 'divide', 57)\n",
      "(59, '\\xc3\\xa8 primo')\n",
      "(61, '\\xc3\\xa8 primo')\n",
      "(3, 'divide', 63)\n",
      "(5, 'divide', 65)\n",
      "(67, '\\xc3\\xa8 primo')\n",
      "(3, 'divide', 69)\n",
      "(71, '\\xc3\\xa8 primo')\n",
      "(73, '\\xc3\\xa8 primo')\n",
      "(3, 'divide', 75)\n",
      "(7, 'divide', 77)\n",
      "(79, '\\xc3\\xa8 primo')\n",
      "(3, 'divide', 81)\n",
      "(83, '\\xc3\\xa8 primo')\n",
      "(5, 'divide', 85)\n",
      "(3, 'divide', 87)\n",
      "(89, '\\xc3\\xa8 primo')\n",
      "(7, 'divide', 91)\n",
      "(3, 'divide', 93)\n",
      "(5, 'divide', 95)\n",
      "(97, '\\xc3\\xa8 primo')\n",
      "(3, 'divide', 99)\n"
     ]
    }
   ],
   "source": [
    "primi = [2]\n",
    "candidato = 3\n",
    "while candidato < 100:\n",
    "    for primo in primi:\n",
    "        if candidato % primo == 0:\n",
    "            print(primo,\"divide\",candidato)\n",
    "            break\n",
    "    else:\n",
    "        print(candidato,\"è primo\")\n",
    "        primi.append(candidato)\n",
    "    candidato +=2    "
   ]
  },
  {
   "cell_type": "markdown",
   "metadata": {},
   "source": [
    "The last example calculates and displays all 'prime numbers' among 1 and 99; for the 'no prime numbers' displays the first found factorization. "
   ]
  },
  {
   "cell_type": "markdown",
   "metadata": {},
   "source": [
    "### Return"
   ]
  },
  {
   "cell_type": "markdown",
   "metadata": {},
   "source": [
    "This function causes a function to exit and the return of following value (or values):"
   ]
  },
  {
   "cell_type": "code",
   "execution_count": 19,
   "metadata": {},
   "outputs": [],
   "source": [
    "def function(n):\n",
    "    if n > 75:\n",
    "        return 'too much'\n",
    "    if n < 25:\n",
    "        return 'litte bit'\n",
    "    return 'enough'"
   ]
  },
  {
   "cell_type": "markdown",
   "metadata": {},
   "source": [
    "We will resume the speech in the module dedicated to functions."
   ]
  },
  {
   "cell_type": "markdown",
   "metadata": {},
   "source": [
    "### Assert"
   ]
  },
  {
   "cell_type": "markdown",
   "metadata": {},
   "source": [
    "This instruction allows us to define, at some point in the program, a condition always true. If false we incur in an error. Try to define a function that returns the highest value among two value bypassed as parameters and, first to return the highest value, assert that this last must be one of the two parameters:"
   ]
  },
  {
   "cell_type": "code",
   "execution_count": 37,
   "metadata": {},
   "outputs": [],
   "source": [
    "def highest(val1,val2):\n",
    "    val_max = None\n",
    "    if val1 > val2:\n",
    "        val_max = val1\n",
    "    if val2 > val1:\n",
    "        val_max = val2\n",
    "    assert val_max in (val1,val2), (\n",
    "           \"val_max {0} not in ({1},{2})\".\n",
    "           format(val_max, val1, val2))\n",
    "    return val_max"
   ]
  },
  {
   "cell_type": "code",
   "execution_count": 38,
   "metadata": {},
   "outputs": [
    {
     "data": {
      "text/plain": [
       "3"
      ]
     },
     "execution_count": 38,
     "metadata": {},
     "output_type": "execute_result"
    }
   ],
   "source": [
    "highest(1,3)"
   ]
  },
  {
   "cell_type": "code",
   "execution_count": 39,
   "metadata": {},
   "outputs": [
    {
     "data": {
      "text/plain": [
       "150"
      ]
     },
     "execution_count": 39,
     "metadata": {},
     "output_type": "execute_result"
    }
   ],
   "source": [
    "highest(150,5)"
   ]
  },
  {
   "cell_type": "code",
   "execution_count": 40,
   "metadata": {},
   "outputs": [
    {
     "ename": "AssertionError",
     "evalue": "val_max None not in (2,2)",
     "output_type": "error",
     "traceback": [
      "\u001b[0;31m---------------------------------------------------------------------------\u001b[0m",
      "\u001b[0;31mAssertionError\u001b[0m                            Traceback (most recent call last)",
      "\u001b[0;32m<ipython-input-40-d77637cc8229>\u001b[0m in \u001b[0;36m<module>\u001b[0;34m()\u001b[0m\n\u001b[0;32m----> 1\u001b[0;31m \u001b[0mhighest\u001b[0m\u001b[0;34m(\u001b[0m\u001b[0;36m2\u001b[0m\u001b[0;34m,\u001b[0m\u001b[0;36m2\u001b[0m\u001b[0;34m)\u001b[0m\u001b[0;34m\u001b[0m\u001b[0;34m\u001b[0m\u001b[0m\n\u001b[0m",
      "\u001b[0;32m<ipython-input-37-fab61cc90e81>\u001b[0m in \u001b[0;36mhighest\u001b[0;34m(val1, val2)\u001b[0m\n\u001b[1;32m      7\u001b[0m     assert val_max in (val1,val2), (\n\u001b[1;32m      8\u001b[0m            \u001b[0;34m\"val_max {0} not in ({1},{2})\"\u001b[0m\u001b[0;34m.\u001b[0m\u001b[0;34m\u001b[0m\u001b[0;34m\u001b[0m\u001b[0m\n\u001b[0;32m----> 9\u001b[0;31m            format(val_max, val1, val2))\n\u001b[0m\u001b[1;32m     10\u001b[0m     \u001b[0;32mreturn\u001b[0m \u001b[0mval_max\u001b[0m\u001b[0;34m\u001b[0m\u001b[0;34m\u001b[0m\u001b[0m\n",
      "\u001b[0;31mAssertionError\u001b[0m: val_max None not in (2,2)"
     ]
    }
   ],
   "source": [
    "highest(2,2)"
   ]
  },
  {
   "cell_type": "markdown",
   "metadata": {},
   "source": [
    "```assert``` highlighted a problem of our function: if two values are equal, neither of two if is executed so 'val_max' keeps the initial value 'None'."
   ]
  },
  {
   "cell_type": "code",
   "execution_count": null,
   "metadata": {},
   "outputs": [],
   "source": []
  }
 ],
 "metadata": {
  "kernelspec": {
   "display_name": "Python 2",
   "language": "python",
   "name": "python2"
  },
  "language_info": {
   "codemirror_mode": {
    "name": "ipython",
    "version": 2
   },
   "file_extension": ".py",
   "mimetype": "text/x-python",
   "name": "python",
   "nbconvert_exporter": "python",
   "pygments_lexer": "ipython2",
   "version": "2.7.15+"
  }
 },
 "nbformat": 4,
 "nbformat_minor": 2
}
