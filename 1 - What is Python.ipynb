{
 "cells": [
  {
   "cell_type": "markdown",
   "metadata": {},
   "source": [
    "## Module 1 "
   ]
  },
  {
   "cell_type": "markdown",
   "metadata": {},
   "source": [
    "## What is Python?\n",
    "This is the first question of the FAQ in the official web site http://www.python.org \n",
    "\n",
    "\"Python is an interpreted, interactive, object-oriented programming language. It incorporates modules, exceptions, dynamic typing, very high level dynamic data types, and classes. Python combines remarkable power with very clear syntax. It has interfaces to many system calls and libraries, as well as to various window systems, and is extensible in C or C++. It is also usable as an extension language for applications that need a programmable interface. Finally, Python is portable: it runs on many Unix variants, on the Mac, and on Windows 2000 and later\"\n",
    "\n",
    "Who was the inventor of Python? A brilliant dutch man with an atypical italian name: Guido Van Rossum.\n",
    "In the 1989, during Christmas holiday, he decided to write a programming language able to solve every deficiency present in other programming language. \n",
    "Guido was and is a genius, so his creature was a success first in his envinronment work and after pubblication on Usenet in February 1991 in all the world. \n",
    "\n",
    "Probabily someone is asking himself the reasons why a treasure is free? The answer is the same not only for Python but also for the creator of the first Linux kernel or for the polio vaccine discoverer, Albert Sabin, that refused until the death to patent it. \n",
    "\n",
    "This happen often in \"www\" world, it's a vicious circle where people returns something improving, correcting and spreading what is made available for free. Python is an evident example of this phenomenon. \n",
    "\n",
    "Actually there are more or less 80 (!) official developers, but Guido is the only BDFL (Benevolent Dictator For Life). \n",
    "\n",
    "The name Python is due to the passion of his father for the group of British comedians of the 70s, the Monty Python. "
   ]
  },
  {
   "cell_type": "markdown",
   "metadata": {},
   "source": [
    "## Interpreted and Interactive\n",
    "In most programming languages, the actions required to execute a code include the writing, the compilation, sometimes the linking and finally the execution; with Python is very different, you can directly execute the source code or write the commands into the prompt without needing to create or modify a source file.\n",
    "It may seem strange, but for the beginner is extremely useful to test some useful instructions. \n",
    "Who is eager to start and has already installed Python on PC, could reproduce two little examples with the finality to show what means \"interactive\":"
   ]
  },
  {
   "cell_type": "code",
   "execution_count": 3,
   "metadata": {},
   "outputs": [
    {
     "name": "stdout",
     "output_type": "stream",
     "text": [
      "I want learn Python\n"
     ]
    }
   ],
   "source": [
    "print('I want learn Python')"
   ]
  },
  {
   "cell_type": "code",
   "execution_count": 2,
   "metadata": {},
   "outputs": [
    {
     "name": "stdout",
     "output_type": "stream",
     "text": [
      "8\n"
     ]
    }
   ],
   "source": [
    "a=4\n",
    "b=a*2\n",
    "print(b)"
   ]
  },
  {
   "cell_type": "markdown",
   "metadata": {},
   "source": [
    "## Object-oriented \n",
    "Rather than starting a discussion about the meaning of the expression, it's useful to give a practical example.\n",
    "Imagine that we want to build a library that makes available to our colleagues the typical functions of reading or writing variables in a configuration file. Using a procedural approach we could write a series of functions: CreateFile, ReadFile, ReadVariable, WriteVariable and so on. Each function, probably, need to receive in input the file name that we must remember during all procedure. Moreover, each function will have to take care to open, write or read and close the file. Each function could fail for various reasons, so we have to read the output and verify with another function what is the complete error message. \n",
    "With a language object-oriented we change strategy. For example, we can define an object configuration file; when we create the configuration file, it will require us the name of the file and from this moment on we will not have to worry about remembering it anymore. Again we can save inside the object the status of the physical file, so you do not have to open it every time.\n",
    "Theoretically, it is possible programming following this guideline with many other languages, the difference in Python consists of the simplicity to define, create and use an object. We will deepen the concept in section dedicate to classes. "
   ]
  },
  {
   "cell_type": "markdown",
   "metadata": {},
   "source": [
    "## Modules \n",
    "After Python installation, we automatically can take advantage of a large source of libraries ready to use and able to give us a huge amount of code tested and verified. Modules are the name of libraries.\n",
    "How can it possible to import a module in Python? In the following example we import and use the web browser module, very useful to easily access a web page:"
   ]
  },
  {
   "cell_type": "code",
   "execution_count": null,
   "metadata": {},
   "outputs": [],
   "source": [
    "import webbrowser\n",
    "webbrowser.open('https://www.google.com/maps/place/' + input())"
   ]
  },
  {
   "cell_type": "markdown",
   "metadata": {},
   "source": [
    "Don't worry if you don't understand the meaning of the second line, now we want simply show how simple is to import a package."
   ]
  },
  {
   "cell_type": "markdown",
   "metadata": {},
   "source": [
    "## Exceptions\n",
    "The strategy to manage errors in Python is similar to other languages. An exception is due to an anomalous event that changes the normal execution procedure. For example when the user inserts an invalid input (alphabetic character instead of numeric value) or tries to create a file in a fill hard disk. If the exception is expected by the user is possible to manage it (handled exception) vice versa it could be unexpected (unhandled); in the following example we show what we mean:"
   ]
  },
  {
   "cell_type": "code",
   "execution_count": 7,
   "metadata": {},
   "outputs": [
    {
     "ename": "ZeroDivisionError",
     "evalue": "integer division or modulo by zero",
     "output_type": "error",
     "traceback": [
      "\u001b[0;31m---------------------------------------------------------------------------\u001b[0m",
      "\u001b[0;31mZeroDivisionError\u001b[0m                         Traceback (most recent call last)",
      "\u001b[0;32m<ipython-input-7-713024c65819>\u001b[0m in \u001b[0;36m<module>\u001b[0;34m()\u001b[0m\n\u001b[1;32m      2\u001b[0m \u001b[0ma\u001b[0m\u001b[0;34m=\u001b[0m\u001b[0;36m0\u001b[0m\u001b[0;34m\u001b[0m\u001b[0;34m\u001b[0m\u001b[0m\n\u001b[1;32m      3\u001b[0m \u001b[0mb\u001b[0m\u001b[0;34m=\u001b[0m\u001b[0;36m10\u001b[0m\u001b[0;34m\u001b[0m\u001b[0;34m\u001b[0m\u001b[0m\n\u001b[0;32m----> 4\u001b[0;31m \u001b[0;32mprint\u001b[0m\u001b[0;34m(\u001b[0m\u001b[0mb\u001b[0m\u001b[0;34m/\u001b[0m\u001b[0ma\u001b[0m\u001b[0;34m)\u001b[0m\u001b[0;34m\u001b[0m\u001b[0;34m\u001b[0m\u001b[0m\n\u001b[0m",
      "\u001b[0;31mZeroDivisionError\u001b[0m: integer division or modulo by zero"
     ]
    }
   ],
   "source": [
    "# unhandled exception\n",
    "a=0\n",
    "b=10\n",
    "print(b/a)"
   ]
  },
  {
   "cell_type": "code",
   "execution_count": 8,
   "metadata": {},
   "outputs": [
    {
     "name": "stdout",
     "output_type": "stream",
     "text": [
      "division by zero\n"
     ]
    }
   ],
   "source": [
    "#handled exception\n",
    "a=0\n",
    "b=10\n",
    "try:\n",
    "    print(b/a)\n",
    "except ZeroDivisionError:\n",
    "    print(\"division by zero\")"
   ]
  },
  {
   "cell_type": "markdown",
   "metadata": {},
   "source": [
    "## Dynamic typing\n",
    "In a generic programming language, variable typing can be static or dynamic. In the first case, the programmer must explicitly declare the variable typology before using it; in the second case, the interpreter or compiler decides the typology according to the value assigned to it. \n",
    "Python uses dynamic typing but despite this, it remains strongly typing. At example it's impossible to sum a string variable to a numeric variable without explicitly convert the latter into a string variable, so to prevent an exception we have to write in the following way:"
   ]
  },
  {
   "cell_type": "code",
   "execution_count": 9,
   "metadata": {},
   "outputs": [
    {
     "name": "stdout",
     "output_type": "stream",
     "text": [
      "total10\n"
     ]
    }
   ],
   "source": [
    "a = 'total'\n",
    "b = 10\n",
    "print(a + str(b)) # and not: print(a + b)"
   ]
  },
  {
   "cell_type": "markdown",
   "metadata": {},
   "source": [
    "High-level data - In addition to string, int, float and boolean data there are other extremely specialized types: list, tuple, set and dictionary."
   ]
  },
  {
   "cell_type": "markdown",
   "metadata": {},
   "source": [
    "## List\n",
    "A list is an ordered register of objects not necessarily of the same type. It is possible to add to list other elements at the end, at the starter point or in any other position, extract an element or a sequence of elements. It is possible to create cycles on all the elements, find an element and so on. \n",
    "Here an example of a list:"
   ]
  },
  {
   "cell_type": "code",
   "execution_count": 1,
   "metadata": {},
   "outputs": [
    {
     "name": "stdout",
     "output_type": "stream",
     "text": [
      "[1, 2, 3]\n"
     ]
    }
   ],
   "source": [
    "a = [1,2,3]\n",
    "print a"
   ]
  },
  {
   "cell_type": "code",
   "execution_count": 2,
   "metadata": {},
   "outputs": [
    {
     "name": "stdout",
     "output_type": "stream",
     "text": [
      "[1, 2, 3, 4]\n"
     ]
    }
   ],
   "source": [
    "a.append(4)\n",
    "a"
   ]
  },
  {
   "cell_type": "code",
   "execution_count": 3,
   "metadata": {},
   "outputs": [
    {
     "name": "stdout",
     "output_type": "stream",
     "text": [
      "[1, 2, 3, 4, 'numbers']\n"
     ]
    }
   ],
   "source": [
    "a.append('numbers')\n",
    "a"
   ]
  },
  {
   "cell_type": "markdown",
   "metadata": {},
   "source": [
    "## Tuple\n",
    "A tuple is an immutable list. They are useful when the data inside them must not be changed. Tuples are more efficient than lists in terms of execution and memory consumption, but in return, they offer less functionality. At example:"
   ]
  },
  {
   "cell_type": "code",
   "execution_count": 5,
   "metadata": {},
   "outputs": [
    {
     "name": "stdout",
     "output_type": "stream",
     "text": [
      "5\n"
     ]
    }
   ],
   "source": [
    "register = (3, '15', 20, '25', 30)\n",
    "print(len(register))"
   ]
  },
  {
   "cell_type": "markdown",
   "metadata": {},
   "source": [
    "## Set \n",
    "A set is a collection of elements not ordered and without duplicate with which it is possible to do the set theory operation."
   ]
  },
  {
   "cell_type": "code",
   "execution_count": 11,
   "metadata": {},
   "outputs": [
    {
     "name": "stdout",
     "output_type": "stream",
     "text": [
      "{'pasta', 'rice'}\n",
      "{'eggs'}\n",
      "{'pasta', 'rice', 'meat'}\n"
     ]
    }
   ],
   "source": [
    "first = set(['pasta','rice','eggs'])\n",
    "second = set(['meat','eggs'])\n",
    "print(first - second)\n",
    "print(first & second)\n",
    "print(first ^ second)"
   ]
  },
  {
   "cell_type": "markdown",
   "metadata": {},
   "source": [
    "## Dictionary\n",
    "A dictionary is a collection of any kind of objects that can be found in the code using a \"key\" that can be all unless list. Let me show:"
   ]
  },
  {
   "cell_type": "code",
   "execution_count": 13,
   "metadata": {},
   "outputs": [
    {
     "name": "stdout",
     "output_type": "stream",
     "text": [
      "25\n"
     ]
    }
   ],
   "source": [
    "age = {'Robert': 25, 'Leonell': 24 , 'Idriss': 23, 'Jordan': 20}\n",
    "print(age['Robert'])"
   ]
  },
  {
   "cell_type": "code",
   "execution_count": 14,
   "metadata": {},
   "outputs": [
    {
     "name": "stdout",
     "output_type": "stream",
     "text": [
      "dict_keys(['Robert', 'Leonell', 'Idriss', 'Jordan'])\n"
     ]
    }
   ],
   "source": [
    "print(age.keys())"
   ]
  },
  {
   "cell_type": "markdown",
   "metadata": {},
   "source": [
    "## Syntax\n",
    "Python syntax is so clear that sometimes it is obsolete to consult the documentation. In particular, there is one peculiarity in Python that is subject to debate between supporters and detractors of this programming language: the indentation! Python uses the indentation to delimit blocks of instructions. Every time an example can help you to understand better:"
   ]
  },
  {
   "cell_type": "code",
   "execution_count": null,
   "metadata": {},
   "outputs": [],
   "source": [
    "if people.age < 18:\n",
    "    print('access denied')\n",
    "    access = False\n",
    "elif people.age > 99:\n",
    "    print('mmm...it is not the case')\n",
    "    access = False \n",
    "else:\n",
    "    access = True\n",
    "    if people.is_man():\n",
    "        print('Welcome mister')\n",
    "    else:\n",
    "        print('Welcome madam')\n",
    "return access"
   ]
  },
  {
   "cell_type": "markdown",
   "metadata": {},
   "source": [
    "## Portable \n",
    "If we write a code with Python, besides being able to execute with our operative system it is possible also execute with other operative systems: Windows, Linux, Mac IS X, AIX, AROS, AS/400(OS/400), BeOS, OS/2, OS/390, z/OS, Palm OS, iPos, PlayStation, PSP, Psion, QNX, RISC OS (ex Arcon), Nokia phone Series 60, Sparc Solaris, VMS, VsWorks, Windows CE, Pocket PC, Sharp Zaurus and MorphOS. It's enough?\n",
    "If the answer is no, don't worry! you need just a C compiler to download the source code and create your Python version of Python!"
   ]
  },
  {
   "cell_type": "code",
   "execution_count": null,
   "metadata": {},
   "outputs": [],
   "source": []
  }
 ],
 "metadata": {
  "kernelspec": {
   "display_name": "Python 2",
   "language": "python",
   "name": "python2"
  },
  "language_info": {
   "codemirror_mode": {
    "name": "ipython",
    "version": 2
   },
   "file_extension": ".py",
   "mimetype": "text/x-python",
   "name": "python",
   "nbconvert_exporter": "python",
   "pygments_lexer": "ipython2",
   "version": "2.7.15+"
  }
 },
 "nbformat": 4,
 "nbformat_minor": 2
}
